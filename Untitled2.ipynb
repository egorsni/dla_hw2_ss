{
 "cells": [
  {
   "cell_type": "code",
   "execution_count": 10,
   "id": "9902ee1c",
   "metadata": {
    "cellId": "qtwud8uao7bzwwvafnlkr"
   },
   "outputs": [
    {
     "name": "stdout",
     "output_type": "stream",
     "text": [
      "Initialized empty Git repository in /home/jupyter/work/resources/dla_hw2/.git/\n"
     ]
    }
   ],
   "source": [
    "!git init"
   ]
  },
  {
   "cell_type": "code",
   "execution_count": 12,
   "id": "94efa0f7",
   "metadata": {
    "cellId": "wa22jwp7ovh8w96bac4x"
   },
   "outputs": [],
   "source": [
    "!git remote add origin git@github.com:egorsni/dla_hw2.git"
   ]
  },
  {
   "cell_type": "code",
   "execution_count": 13,
   "id": "e949757b",
   "metadata": {
    "cellId": "15qbrmqcgpcle0kxoa9nsd"
   },
   "outputs": [],
   "source": [
    "!git remote set-url origin git@github.com:egorsni/dla_hw1.git"
   ]
  },
  {
   "cell_type": "code",
   "execution_count": 14,
   "id": "1fc06fee",
   "metadata": {
    "cellId": "0en2mroskre9wg3wiz92q2"
   },
   "outputs": [],
   "source": [
    "!git config --global user.email \"egorsni@yandex.ru\"\n",
    "!git config --global user.name \"egorsni\""
   ]
  },
  {
   "cell_type": "code",
   "execution_count": 15,
   "id": "f74217b0",
   "metadata": {
    "cellId": "v1pq3fo7f2nsrzq9ty3w3"
   },
   "outputs": [],
   "source": [
    "!git add ."
   ]
  },
  {
   "cell_type": "code",
   "execution_count": 16,
   "id": "4dca8430",
   "metadata": {
    "cellId": "41bya5v18iwiu3wvhvhmfs"
   },
   "outputs": [
    {
     "name": "stdout",
     "output_type": "stream",
     "text": [
      "[master (root-commit) 51cd5bf] final commit\n",
      " 89 files changed, 28992 insertions(+)\n",
      " create mode 100644 .gitignore\n",
      " create mode 100644 Dockerfile\n",
      " create mode 100644 LICENSE\n",
      " create mode 100644 README.md\n",
      " create mode 100644 RUN.ipynb\n",
      " create mode 100644 Untitled.ipynb\n",
      " create mode 100644 Untitled2.ipynb\n",
      " create mode 100644 hw_asr/__init__.py\n",
      " create mode 100644 hw_asr/augmentations/__init__.py\n",
      " create mode 100644 hw_asr/augmentations/base.py\n",
      " create mode 100644 hw_asr/augmentations/random_apply.py\n",
      " create mode 100644 hw_asr/augmentations/sequential.py\n",
      " create mode 100644 hw_asr/augmentations/spectrogram_augmentations/__init__.py\n",
      " create mode 100644 hw_asr/augmentations/wave_augmentations/Gain.py\n",
      " create mode 100644 hw_asr/augmentations/wave_augmentations/__init__.py\n",
      " create mode 100644 hw_asr/base/__init__.py\n",
      " create mode 100644 hw_asr/base/base_dataset.py\n",
      " create mode 100644 hw_asr/base/base_metric.py\n",
      " create mode 100644 hw_asr/base/base_model.py\n",
      " create mode 100644 hw_asr/base/base_text_encoder.py\n",
      " create mode 100644 hw_asr/base/base_trainer.py\n",
      " create mode 100644 hw_asr/batch_sampler/__init__.py\n",
      " create mode 100644 hw_asr/batch_sampler/group_sort_batch_sampler.py\n",
      " create mode 100644 hw_asr/collate_fn/__init__.py\n",
      " create mode 100644 hw_asr/collate_fn/collate.py\n",
      " create mode 100644 hw_asr/config.json\n",
      " create mode 100644 hw_asr/configs/.gitkeep\n",
      " create mode 100644 hw_asr/configs/default_test_config.json\n",
      " create mode 100644 hw_asr/configs/one_batch_test.json\n",
      " create mode 100644 hw_asr/configs/one_batch_test_resume.json\n",
      " create mode 100644 hw_asr/configs/small_model.json\n",
      " create mode 100644 hw_asr/datasets/__init__.py\n",
      " create mode 100644 hw_asr/datasets/common_voice.py\n",
      " create mode 100644 hw_asr/datasets/custom_audio_dataset.py\n",
      " create mode 100644 hw_asr/datasets/custom_dir_audio_dataset.py\n",
      " create mode 100644 hw_asr/datasets/librispeech_dataset.py\n",
      " create mode 100644 hw_asr/datasets/ljspeech_dataset.py\n",
      " create mode 100644 hw_asr/datasets/mixed_librispeech_dataset.py\n",
      " create mode 100644 hw_asr/datasets/semSpSep.ipynb\n",
      " create mode 100644 hw_asr/logger/__init__.py\n",
      " create mode 100644 hw_asr/logger/logger.py\n",
      " create mode 100644 hw_asr/logger/logger_config.json\n",
      " create mode 100644 hw_asr/logger/tensorboard.py\n",
      " create mode 100644 hw_asr/logger/utils.py\n",
      " create mode 100644 hw_asr/logger/visualization.py\n",
      " create mode 100644 hw_asr/logger/wandb.py\n",
      " create mode 100644 hw_asr/loss/__init__.py\n",
      " create mode 100644 hw_asr/loss/si_sdr_loss.py\n",
      " create mode 100644 hw_asr/metric/PESQMetric.py\n",
      " create mode 100644 hw_asr/metric/SiSDRMetric.py\n",
      " create mode 100644 hw_asr/metric/__init__.py\n",
      " create mode 100644 hw_asr/metric/utils.py\n",
      " create mode 100644 hw_asr/model/__init__.py\n",
      " create mode 100644 hw_asr/model/baseline_model.py\n",
      " create mode 100644 hw_asr/model/cnns.py\n",
      " create mode 100644 hw_asr/model/norm.py\n",
      " create mode 100644 hw_asr/model/spex_plus.py\n",
      " create mode 100644 hw_asr/model/spex_plus_small.py\n",
      " create mode 100644 hw_asr/tests/__init__.py\n",
      " create mode 100644 hw_asr/tests/config.json\n",
      " create mode 100644 hw_asr/tests/test_config.py\n",
      " create mode 100644 hw_asr/tests/test_dataloader.py\n",
      " create mode 100644 hw_asr/tests/test_datasets.py\n",
      " create mode 100644 hw_asr/tests/test_text_encoder.py\n",
      " create mode 100644 hw_asr/tests/utils.py\n",
      " create mode 100644 hw_asr/text_encoder/__init__.py\n",
      " create mode 100644 hw_asr/text_encoder/char_text_encoder.py\n",
      " create mode 100644 hw_asr/text_encoder/ctc_char_text_encoder.py\n",
      " create mode 100644 hw_asr/trainer/__init__.py\n",
      " create mode 100644 hw_asr/trainer/trainer.py\n",
      " create mode 100644 hw_asr/utils/__init__.py\n",
      " create mode 100644 hw_asr/utils/object_loading.py\n",
      " create mode 100644 hw_asr/utils/parse_config.py\n",
      " create mode 100644 hw_asr/utils/util.py\n",
      " create mode 100644 load_checkpoints.py\n",
      " create mode 100644 output.json\n",
      " create mode 100644 requirements.txt\n",
      " create mode 100644 test.py\n",
      " create mode 100644 test_data/audio/84-121550-0000.flac\n",
      " create mode 100644 test_data/audio/84-121550-0001.flac\n",
      " create mode 100644 test_data/audio/84-121550-0002.flac\n",
      " create mode 100644 test_data/audio/84-121550-0003.flac\n",
      " create mode 100644 test_data/audio/84-121550-0004.flac\n",
      " create mode 100644 test_data/transcriptions/84-121550-0000.txt\n",
      " create mode 100644 test_data/transcriptions/84-121550-0001.txt\n",
      " create mode 100644 test_data/transcriptions/84-121550-0002.txt\n",
      " create mode 100644 test_data/transcriptions/84-121550-0003.txt\n",
      " create mode 100644 test_data/transcriptions/84-121550-0004.txt\n",
      " create mode 100644 train.py\n"
     ]
    }
   ],
   "source": [
    "!git commit -m 'final commit'"
   ]
  },
  {
   "cell_type": "code",
   "execution_count": 18,
   "id": "02c5058a",
   "metadata": {
    "cellId": "gpf00xqr6a6uyjkjybtud"
   },
   "outputs": [],
   "source": [
    "!git branch -M main  "
   ]
  },
  {
   "cell_type": "code",
   "execution_count": 19,
   "id": "8c26549b",
   "metadata": {
    "cellId": "7q2jwr3pn8c38h1vo40c6f"
   },
   "outputs": [
    {
     "name": "stderr",
     "output_type": "stream",
     "text": [
      "To github.com:egorsni/dla_hw1.git\n",
      " ! [rejected]        main -> main (fetch first)\n",
      "error: failed to push some refs to 'git@github.com:egorsni/dla_hw1.git'\n",
      "hint: Updates were rejected because the remote contains work that you do\n",
      "hint: not have locally. This is usually caused by another repository pushing\n",
      "hint: to the same ref. You may want to first integrate the remote changes\n",
      "hint: (e.g., 'git pull ...') before pushing again.\n",
      "hint: See the 'Note about fast-forwards' in 'git push --help' for details.\n"
     ]
    },
    {
     "ename": "Exception",
     "evalue": "Process exited with code 1",
     "output_type": "error",
     "traceback": [
      "\u001b[0;31m---------------------------------------------------------------------------\u001b[0m",
      "\u001b[0;31mException\u001b[0m                                 Traceback (most recent call last)",
      "\u001b[0;32m<ipython-input-19-b3f2745fd833>\u001b[0m in \u001b[0;36m<module>\u001b[0;34m\u001b[0m\n\u001b[0;32m----> 1\u001b[0;31m \u001b[0mget_ipython\u001b[0m\u001b[0;34m(\u001b[0m\u001b[0;34m)\u001b[0m\u001b[0;34m.\u001b[0m\u001b[0msystem\u001b[0m\u001b[0;34m(\u001b[0m\u001b[0;34m'git push -u origin main'\u001b[0m\u001b[0;34m)\u001b[0m\u001b[0;34m\u001b[0m\u001b[0;34m\u001b[0m\u001b[0m\n\u001b[0m\u001b[1;32m      2\u001b[0m \u001b[0;31m#\u001b[0m\u001b[0;34m\u001b[0m\u001b[0;34m\u001b[0m\u001b[0;34m\u001b[0m\u001b[0m\n",
      "\u001b[0;32m/kernel/lib/python3.9/site-packages/ml_kernel/kernel.py\u001b[0m in \u001b[0;36m<lambda>\u001b[0;34m(code)\u001b[0m\n\u001b[1;32m    295\u001b[0m \u001b[0;34m\u001b[0m\u001b[0m\n\u001b[1;32m    296\u001b[0m         \u001b[0mself\u001b[0m\u001b[0;34m.\u001b[0m\u001b[0m_script_executor\u001b[0m \u001b[0;34m=\u001b[0m \u001b[0mScriptExecutor\u001b[0m\u001b[0;34m(\u001b[0m\u001b[0mget_output_error_code\u001b[0m\u001b[0;34m)\u001b[0m\u001b[0;34m\u001b[0m\u001b[0;34m\u001b[0m\u001b[0m\n\u001b[0;32m--> 297\u001b[0;31m         \u001b[0mself\u001b[0m\u001b[0;34m.\u001b[0m\u001b[0mshell\u001b[0m\u001b[0;34m.\u001b[0m\u001b[0msystem\u001b[0m \u001b[0;34m=\u001b[0m \u001b[0;32mlambda\u001b[0m \u001b[0mcode\u001b[0m\u001b[0;34m:\u001b[0m \u001b[0mself\u001b[0m\u001b[0;34m.\u001b[0m\u001b[0m_script_executor\u001b[0m\u001b[0;34m.\u001b[0m\u001b[0mexecute\u001b[0m\u001b[0;34m(\u001b[0m\u001b[0;34m\"bash\"\u001b[0m\u001b[0;34m,\u001b[0m \u001b[0mcode\u001b[0m\u001b[0;34m)\u001b[0m\u001b[0;34m\u001b[0m\u001b[0;34m\u001b[0m\u001b[0m\n\u001b[0m\u001b[1;32m    298\u001b[0m \u001b[0;34m\u001b[0m\u001b[0m\n\u001b[1;32m    299\u001b[0m     \u001b[0;32mdef\u001b[0m \u001b[0m_init_message_handlers\u001b[0m\u001b[0;34m(\u001b[0m\u001b[0mself\u001b[0m\u001b[0;34m)\u001b[0m\u001b[0;34m:\u001b[0m\u001b[0;34m\u001b[0m\u001b[0;34m\u001b[0m\u001b[0m\n",
      "\u001b[0;32m/kernel/lib/python3.9/site-packages/ml_kernel/script_executor.py\u001b[0m in \u001b[0;36mexecute\u001b[0;34m(self, lang, code)\u001b[0m\n\u001b[1;32m     41\u001b[0m         \u001b[0mreturn_code\u001b[0m \u001b[0;34m=\u001b[0m \u001b[0mself\u001b[0m\u001b[0;34m.\u001b[0m\u001b[0mdo_execute\u001b[0m\u001b[0;34m(\u001b[0m\u001b[0mcode\u001b[0m\u001b[0;34m)\u001b[0m\u001b[0;34m\u001b[0m\u001b[0;34m\u001b[0m\u001b[0m\n\u001b[1;32m     42\u001b[0m         \u001b[0;32mif\u001b[0m \u001b[0mreturn_code\u001b[0m \u001b[0;34m!=\u001b[0m \u001b[0;36m0\u001b[0m\u001b[0;34m:\u001b[0m\u001b[0;34m\u001b[0m\u001b[0;34m\u001b[0m\u001b[0m\n\u001b[0;32m---> 43\u001b[0;31m             \u001b[0;32mraise\u001b[0m \u001b[0mException\u001b[0m\u001b[0;34m(\u001b[0m\u001b[0;34m'Process exited with code %d'\u001b[0m \u001b[0;34m%\u001b[0m \u001b[0mreturn_code\u001b[0m\u001b[0;34m)\u001b[0m\u001b[0;34m\u001b[0m\u001b[0;34m\u001b[0m\u001b[0m\n\u001b[0m",
      "\u001b[0;31mException\u001b[0m: Process exited with code 1"
     ]
    }
   ],
   "source": [
    "!git push -u origin main"
   ]
  },
  {
   "cell_type": "code",
   "execution_count": null,
   "id": "b389a52c",
   "metadata": {
    "cellId": "89t1sc6z8etiz1tt2nn2fs"
   },
   "outputs": [],
   "source": []
  }
 ],
 "metadata": {
  "language_info": {
   "codemirror_mode": {
    "name": "ipython",
    "version": 3
   },
   "file_extension": ".py",
   "mimetype": "text/x-python",
   "name": "python",
   "nbconvert_exporter": "python",
   "pygments_lexer": "ipython3",
   "version": "3.7.7"
  },
  "notebookId": "0ada28b4-c39c-46f1-83a3-883b220c5d1d",
  "notebookPath": "dla_hw2/Untitled2.ipynb"
 },
 "nbformat": 4,
 "nbformat_minor": 5
}
